{
 "cells": [
  {
   "cell_type": "code",
   "execution_count": 8,
   "metadata": {},
   "outputs": [],
   "source": [
    "import spacy\n",
    "from spacy.lang.en import English\n",
    "\n",
    "nlp_better = spacy.load('en_core_web_sm')\n",
    "\n",
    "\n",
    "text = open('schoolmistress.txt', 'r').read()\n",
    "\n",
    "with open('schoolmistress_sentences.txt', 'w') as f:\n",
    "    for i in nlp_better(text).sents:\n",
    "        f.write(f'{i}\\n')"
   ]
  }
 ],
 "metadata": {
  "interpreter": {
   "hash": "76a528b1eb74d0f822bc167876e1163f83fd92dc5c6c35bb6dd72100cb4d33a5"
  },
  "kernelspec": {
   "display_name": "Python 3.10.0 ('reader_engagement_app-OsSqQYAN')",
   "language": "python",
   "name": "python3"
  },
  "language_info": {
   "codemirror_mode": {
    "name": "ipython",
    "version": 3
   },
   "file_extension": ".py",
   "mimetype": "text/x-python",
   "name": "python",
   "nbconvert_exporter": "python",
   "pygments_lexer": "ipython3",
   "version": "3.10.0"
  },
  "orig_nbformat": 4
 },
 "nbformat": 4,
 "nbformat_minor": 2
}
